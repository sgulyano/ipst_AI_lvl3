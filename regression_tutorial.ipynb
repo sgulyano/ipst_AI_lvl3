{
 "cells": [
  {
   "cell_type": "markdown",
   "metadata": {},
   "source": [
    "# Linear Regression"
   ]
  },
  {
   "cell_type": "markdown",
   "metadata": {},
   "source": [
    "https://youtu.be/CtKeHnfK5uA\n",
    "https://github.com/reigngt09/MachineLearningFNE"
   ]
  },
  {
   "cell_type": "markdown",
   "metadata": {},
   "source": [
    "https://plot.ly/python/getting-started/"
   ]
  },
  {
   "cell_type": "markdown",
   "metadata": {},
   "source": [
    "https://scikit-learn.org/stable/datasets/index.html#diabetes-dataset"
   ]
  },
  {
   "cell_type": "code",
   "execution_count": 72,
   "metadata": {},
   "outputs": [],
   "source": [
    "import ipywidgets as widgets\n",
    "from ipywidgets import interact, interact_manual"
   ]
  },
  {
   "cell_type": "code",
   "execution_count": 83,
   "metadata": {},
   "outputs": [],
   "source": [
    "import matplotlib.pyplot as plt\n",
    "import numpy as np\n",
    "from sklearn import datasets, linear_model\n",
    "from sklearn.metrics import mean_squared_error, r2_score\n",
    "\n",
    "# Load the diabetes dataset\n",
    "diabetes_X, diabetes_y = datasets.load_diabetes(return_X_y=True)\n",
    "\n",
    "# Use only one feature (BMI)\n",
    "diabetes_X2D = diabetes_X[:, np.newaxis, 2]\n",
    "# Use only two feature (BMI and Average blood pressure)\n",
    "diabetes_X3D = diabetes_X[:,[2, 3]]"
   ]
  },
  {
   "cell_type": "code",
   "execution_count": null,
   "metadata": {},
   "outputs": [],
   "source": [
    "# Split the data into training/testing sets\n",
    "diabetes_X_train = diabetes_X2D[:-20]\n",
    "diabetes_X_test = diabetes_X2D[-20:]\n",
    "\n",
    "# Split the targets into training/testing sets\n",
    "diabetes_y_train = diabetes_y[:-20]\n",
    "diabetes_y_test = diabetes_y[-20:]"
   ]
  },
  {
   "cell_type": "code",
   "execution_count": 74,
   "metadata": {},
   "outputs": [
    {
     "data": {
      "text/plain": [
       "LinearRegression(copy_X=True, fit_intercept=True, n_jobs=None, normalize=False)"
      ]
     },
     "execution_count": 74,
     "metadata": {},
     "output_type": "execute_result"
    }
   ],
   "source": [
    "# Create linear regression object\n",
    "regr = linear_model.LinearRegression()\n",
    "# Train the model using the training sets\n",
    "regr.fit(diabetes_X_train, diabetes_y_train)"
   ]
  },
  {
   "cell_type": "markdown",
   "metadata": {},
   "source": [
    "## Tune Parameters\n",
    "ปรับ parameter ด้วยมือ (ใช้ data อื่น ที่น่าสนใจสำหรับเด็กกว่านี้ แล้วทำให้สามารถอัพโหลด ใส่ในกราฟได้)"
   ]
  },
  {
   "cell_type": "code",
   "execution_count": 77,
   "metadata": {},
   "outputs": [
    {
     "data": {
      "application/vnd.jupyter.widget-view+json": {
       "model_id": "b341b42e33ce4c91bf717f5adf975135",
       "version_major": 2,
       "version_minor": 0
      },
      "text/plain": [
       "interactive(children=(IntSlider(value=1000, description='m', max=3000, min=-1000), IntSlider(value=100, descri…"
      ]
     },
     "metadata": {},
     "output_type": "display_data"
    }
   ],
   "source": [
    "@interact\n",
    "def show_articles_more_than(m=1000, c=100):\n",
    "    # Make predictions using the testing set\n",
    "    regr.coef_[0] = m\n",
    "    regr.intercept_ = c\n",
    "    diabetes_y_pred = regr.predict(diabetes_X_test)\n",
    "\n",
    "    plt.scatter(diabetes_X_test, diabetes_y_test,  color='black')\n",
    "    plt.plot(diabetes_X_test, diabetes_y_pred, color='blue', linewidth=3)\n",
    "\n",
    "    plt.xlim=(-0.1, 0.15)\n",
    "    plt.ylim=(0, 350)\n",
    "    plt.title('BMI vs disease progression')\n",
    "    plt.xlabel('Body mass index')\n",
    "    plt.ylabel('Disease Progression')\n",
    "    plt.show()\n",
    "    return m, c"
   ]
  },
  {
   "cell_type": "markdown",
   "metadata": {},
   "source": [
    "ปรับ parameters 2 อย่าง (3D)"
   ]
  },
  {
   "cell_type": "code",
   "execution_count": 115,
   "metadata": {},
   "outputs": [],
   "source": [
    "# Split the data into training/testing sets\n",
    "diabetes_X_train = diabetes_X3D[:-20]\n",
    "diabetes_X_test = diabetes_X3D[-20:]\n",
    "\n",
    "# Split the targets into training/testing sets\n",
    "diabetes_y_train = diabetes_y[:-20]\n",
    "diabetes_y_test = diabetes_y[-20:]"
   ]
  },
  {
   "cell_type": "code",
   "execution_count": 116,
   "metadata": {},
   "outputs": [
    {
     "data": {
      "text/plain": [
       "LinearRegression(copy_X=True, fit_intercept=True, n_jobs=None, normalize=False)"
      ]
     },
     "execution_count": 116,
     "metadata": {},
     "output_type": "execute_result"
    }
   ],
   "source": [
    "# Create linear regression object\n",
    "regr = linear_model.LinearRegression()\n",
    "# Train the model using the training sets\n",
    "regr.fit(diabetes_X_train, diabetes_y_train)"
   ]
  },
  {
   "cell_type": "code",
   "execution_count": 117,
   "metadata": {},
   "outputs": [],
   "source": [
    "x1max, x2max = np.around(diabetes_X_train.max(axis=0), 2)\n",
    "x1min, x2min = np.around(diabetes_X_train.min(axis=0), 2)"
   ]
  },
  {
   "cell_type": "code",
   "execution_count": 118,
   "metadata": {},
   "outputs": [],
   "source": [
    "[a1, a2] = regr.coef_\n",
    "d = regr.intercept_\n",
    "\n",
    "x1max, x2max = np.around(diabetes_X_train.max(axis=0), 2)\n",
    "x1min, x2min = np.around(diabetes_X_train.min(axis=0), 2)\n",
    "\n",
    "# create x,y\n",
    "xx, yy = np.meshgrid(np.linspace(x1min,x1max,10), np.linspace(x2min,x2max,10))\n",
    "\n",
    "# calculate corresponding z\n",
    "zz = a1*xx + a2*yy + d"
   ]
  },
  {
   "cell_type": "code",
   "execution_count": 131,
   "metadata": {},
   "outputs": [
    {
     "data": {
      "application/vnd.jupyter.widget-view+json": {
       "model_id": "9d603dbe929d46ed89820040ca4f348f",
       "version_major": 2,
       "version_minor": 0
      },
      "text/plain": [
       "FigureWidget({\n",
       "    'data': [{'marker': {'line': {'color': 'DarkSlateGrey', 'width': 1}, 'size': 6},\n",
       "          …"
      ]
     },
     "metadata": {},
     "output_type": "display_data"
    }
   ],
   "source": [
    "import plotly.graph_objs as go\n",
    "\n",
    "fig = go.FigureWidget(data=\n",
    "                      [go.Scatter3d(x=diabetes_X_train[:,0], \n",
    "                                    y=diabetes_X_train[:,1] , \n",
    "                                    z=diabetes_y_train, \n",
    "                                    mode='markers',\n",
    "                                    opacity=0.9),\n",
    "                      go.Surface(x=xx, y=yy, z=zz, opacity=0.8)])\n",
    "\n",
    "fig.update_traces(marker=dict(size=6,\n",
    "                              line=dict(width=1, color='DarkSlateGrey')),\n",
    "                  selector=dict(mode='markers'))\n",
    "\n",
    "fig.update_layout(title='BMI and average blood pressure vs disease progression',\n",
    "                   scene = dict(\n",
    "                       xaxis = dict(title='BMI'),\n",
    "                       yaxis = dict(title='Average Blood Pressure'),\n",
    "                       zaxis = dict(title='Disease Progression'),),\n",
    "                  autosize=False,\n",
    "                  width=800, height=800,\n",
    "                  margin=dict(l=65, r=50, b=65, t=90))\n",
    "fig"
   ]
  },
  {
   "cell_type": "code",
   "execution_count": 68,
   "metadata": {},
   "outputs": [
    {
     "data": {
      "application/vnd.jupyter.widget-view+json": {
       "model_id": "6bfaf50108044b388d9e3b0b47926b8b",
       "version_major": 2,
       "version_minor": 0
      },
      "text/plain": [
       "interactive(children=(IntSlider(value=139, description='a1', max=417, min=-139), IntSlider(value=912, descript…"
      ]
     },
     "metadata": {},
     "output_type": "display_data"
    }
   ],
   "source": [
    "@interact\n",
    "def show_articles_more_than(a1=139, a2=912, d=152):\n",
    "    # Make predictions using the testing set\n",
    "    zz = a1*xx + a2*yy + d\n",
    "    bar = fig.data[1]\n",
    "    bar.z = zz\n",
    "    return "
   ]
  },
  {
   "cell_type": "markdown",
   "metadata": {},
   "source": [
    "# Sampling Data\n",
    "\n",
    "การเลือกข้อมูล หรือ sampling มีผลต่อ model ที่ได้ (เลือกใช้ข้อมูลที่น่าสนใจกับ นร. มากกว่านี้)\n",
    "\n",
    "1. เลือกข้อมูลจากทุก กลุ่มข้อมูล population เพื่อไม่ให้มี Bias  "
   ]
  },
  {
   "cell_type": "code",
   "execution_count": 136,
   "metadata": {},
   "outputs": [
    {
     "data": {
      "application/vnd.jupyter.widget-view+json": {
       "model_id": "96217d907d3e45869cf72677326de4a7",
       "version_major": 2,
       "version_minor": 0
      },
      "text/plain": [
       "interactive(children=(Dropdown(description='groups', options=('A', 'B', 'C'), value='A'), Output()), _dom_clas…"
      ]
     },
     "metadata": {},
     "output_type": "display_data"
    }
   ],
   "source": [
    "# Split the data into training/testing sets\n",
    "diabetes_X_train = diabetes_X2D[:-20]\n",
    "diabetes_X_test = diabetes_X2D[-20:]\n",
    "\n",
    "# Split the targets into training/testing sets\n",
    "diabetes_y_train = diabetes_y[:-20]\n",
    "diabetes_y_test = diabetes_y[-20:]\n",
    "\n",
    "# Create linear regression object\n",
    "regr = linear_model.LinearRegression()\n",
    "\n",
    "@interact\n",
    "def show_articles_more_than(groups=['A', 'B', 'C']):\n",
    "    # Make predictions using the testing set\n",
    "    # Train the model using the training sets\n",
    "    if groups == 'A':\n",
    "        idx = diabetes_X_train > -np.inf\n",
    "        regr.fit(diabetes_X_train, diabetes_y_train)\n",
    "    elif groups == 'B':\n",
    "        idx = diabetes_X_train > 0.1\n",
    "    else:\n",
    "        idx = diabetes_X_train < -0.05\n",
    "        \n",
    "    regr.fit(diabetes_X_train[idx,np.newaxis], diabetes_y_train[idx.flatten()])\n",
    "    \n",
    "    # Make predictions using the testing set\n",
    "    diabetes_y_pred = regr.predict(diabetes_X_test)\n",
    "\n",
    "    # The coefficients\n",
    "    print('Coefficients: ', regr.coef_[0])\n",
    "    # The mean squared error\n",
    "    print('Mean squared error: %.2f'\n",
    "          % mean_squared_error(diabetes_y_test, diabetes_y_pred))\n",
    "    # The coefficient of determination: 1 is perfect prediction\n",
    "    print('Coefficient of determination: %.2f'\n",
    "          % r2_score(diabetes_y_test, diabetes_y_pred))\n",
    "\n",
    "    # Plot outputs\n",
    "    sc1 = plt.scatter(diabetes_X_train[idx,np.newaxis], diabetes_y_train[idx.flatten()],  color='black')\n",
    "    sc2 = plt.scatter(diabetes_X_train[~idx,np.newaxis], diabetes_y_train[~idx.flatten()],  color='gray')\n",
    "    sc3 = plt.scatter(diabetes_X_test, diabetes_y_test,  color='cyan')\n",
    "    \n",
    "    plt.plot(diabetes_X_test, diabetes_y_pred, color='red', linewidth=3)\n",
    "\n",
    "    sc1.set_label('Training data')\n",
    "    sc2.set_label('Unknown data')\n",
    "    sc3.set_label('Test data')\n",
    "    \n",
    "    plt.title('BMI vs disease progression')\n",
    "    plt.xlabel('Body mass index')\n",
    "    plt.ylabel('Disease Progression')\n",
    "    plt.legend()\n",
    "    plt.show()"
   ]
  },
  {
   "cell_type": "markdown",
   "metadata": {},
   "source": [
    "2. เลือกข้อมูล ให้มีปริมาณพอ ๆ กัน เพื่อป้องกัน imbalanced data"
   ]
  },
  {
   "cell_type": "markdown",
   "metadata": {},
   "source": [
    "# Tune Parameters Automatically\n",
    "การใช้สูตรทางคณิตศาสตร์ช่วยในการปรับค่า Parameter"
   ]
  },
  {
   "cell_type": "code",
   "execution_count": 137,
   "metadata": {},
   "outputs": [
    {
     "name": "stdout",
     "output_type": "stream",
     "text": [
      "Coefficients:  938.2378612512637\n",
      "Mean squared error: 2548.07\n",
      "Coefficient of determination: 0.47\n"
     ]
    },
    {
     "data": {
      "image/png": "[encoded data removed]",
      "text/plain": [
       "<Figure size 432x288 with 1 Axes>"
      ]
     },
     "metadata": {},
     "output_type": "display_data"
    }
   ],
   "source": [
    "# Train the model using the training sets\n",
    "regr.fit(diabetes_X_train, diabetes_y_train)\n",
    "\n",
    "# Make predictions using the testing set\n",
    "diabetes_y_pred = regr.predict(diabetes_X_test)\n",
    "\n",
    "# The coefficients\n",
    "print('Coefficients: ', regr.coef_[0])\n",
    "# The mean squared error\n",
    "print('Mean squared error: %.2f'\n",
    "      % mean_squared_error(diabetes_y_test, diabetes_y_pred))\n",
    "# The coefficient of determination: 1 is perfect prediction\n",
    "print('Coefficient of determination: %.2f'\n",
    "      % r2_score(diabetes_y_test, diabetes_y_pred))\n",
    "\n",
    "# Plot outputs\n",
    "plt.scatter(diabetes_X_test, diabetes_y_test,  color='black')\n",
    "plt.plot(diabetes_X_test, diabetes_y_pred, color='blue', linewidth=3)\n",
    "\n",
    "plt.xticks(())\n",
    "plt.yticks(())\n",
    "\n",
    "plt.title('BMI vs disease progression')\n",
    "plt.xlabel('Body mass index')\n",
    "plt.ylabel('Disease Progression')\n",
    "plt.show()"
   ]
  },
  {
   "cell_type": "markdown",
   "metadata": {},
   "source": [
    "## ให้ลองใช้ Linear Regression แก้ปัญหาจริง"
   ]
  },
  {
   "cell_type": "code",
   "execution_count": null,
   "metadata": {},
   "outputs": [],
   "source": []
  }
 ],
 "metadata": {
  "kernelspec": {
   "display_name": "Python 3",
   "language": "python",
   "name": "python3"
  },
  "language_info": {
   "codemirror_mode": {
    "name": "ipython",
    "version": 3
   },
   "file_extension": ".py",
   "mimetype": "text/x-python",
   "name": "python",
   "nbconvert_exporter": "python",
   "pygments_lexer": "ipython3",
   "version": "3.7.3"
  }
 },
 "nbformat": 4,
 "nbformat_minor": 4
}
