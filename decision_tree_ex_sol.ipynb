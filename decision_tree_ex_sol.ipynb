{
 "cells": [
  {
   "cell_type": "markdown",
   "metadata": {},
   "source": [
    "<a id='top'></a>\n",
    "# แบบฝึกหัด Decision Tree\n",
    "\n",
    "ในแบบฝึกหัดนี้เราจะมาเขียนโปรแกรมทำ Decision Tree ใน Python กัน"
   ]
  },
  {
   "cell_type": "markdown",
   "metadata": {},
   "source": [
    "ในแบบฝึกหัด เราจะเรียนรู้เกี่ยวกับ\n",
    "\n",
    "1. [การอ่านข้อมูลเข้าระบบ จากไฟล์ CSV](#section_1)\n",
    "2. [การเตรียมข้อมูลเข้า](#section_2)\n",
    "3. [การสร้าง Decision Tree โดยใช้เทคนิค CART](#section_3)\n",
    "4. [การประเมินความแม่นยำของโมเดล Decision Tree ที่เราสร้าง](#section_4)"
   ]
  },
  {
   "cell_type": "markdown",
   "metadata": {},
   "source": [
    "----"
   ]
  },
  {
   "cell_type": "markdown",
   "metadata": {},
   "source": [
    "<a id='section_1'></a>\n",
    "# 1. การอ่านข้อมูลเข้าระบบ จากไฟล์ CSV\n",
    "\n",
    "ในแบบฝึกหัดนี้จะใช้ข้อมูลจาก http://archive.ics.uci.edu/ml/datasets/banknote+authentication\n",
    "\n",
    "ซึ่งมีข้อมูล 5 คอลัมน์ดังนี้\n",
    "1. variance of Wavelet Transformed image (continuous)\n",
    "2. skewness of Wavelet Transformed image (continuous)\n",
    "3. curtosis of Wavelet Transformed image (continuous)\n",
    "4. entropy of image (continuous)\n",
    "5. class (integer)"
   ]
  },
  {
   "cell_type": "code",
   "execution_count": 1,
   "metadata": {},
   "outputs": [],
   "source": [
    "# Test CART on Bank Note dataset\n",
    "import random\n",
    "import math\n",
    "\n",
    "random.seed(1)"
   ]
  },
  {
   "cell_type": "markdown",
   "metadata": {},
   "source": [
    "อ่านข้อมูลในไฟล์แต่ละบรรทัดเข้ามาเป็น `string`"
   ]
  },
  {
   "cell_type": "code",
   "execution_count": 2,
   "metadata": {},
   "outputs": [],
   "source": [
    "def read_csv(filename):\n",
    "    with open(filename, 'r') as f:\n",
    "        return f.readlines()"
   ]
  },
  {
   "cell_type": "code",
   "execution_count": 3,
   "metadata": {},
   "outputs": [],
   "source": [
    "filename = 'data_banknote_authentication.csv'\n",
    "dataset = read_csv(filename)"
   ]
  },
  {
   "cell_type": "code",
   "execution_count": 4,
   "metadata": {},
   "outputs": [
    {
     "name": "stdout",
     "output_type": "stream",
     "text": [
      "ชุดข้อมูล data_banknote_authentication.csv มี : 1372 ตัวอย่าง\n"
     ]
    }
   ],
   "source": [
    "print(f'ชุดข้อมูล {filename} มี : {len(dataset)} ตัวอย่าง')"
   ]
  },
  {
   "cell_type": "markdown",
   "metadata": {},
   "source": [
    "แปลงข้อมูลจาก `string` เป็น `list` ของ `float`"
   ]
  },
  {
   "cell_type": "code",
   "execution_count": 5,
   "metadata": {},
   "outputs": [],
   "source": [
    "def str2floatlist(s):\n",
    "    x = []\n",
    "    for num in s.split(','):\n",
    "        x.append(float(num.strip()))\n",
    "    # ตำแหน่งสุดท้ายบอก class เป็น ค่า integer\n",
    "    y = int(x.pop())\n",
    "    return x, y"
   ]
  },
  {
   "cell_type": "code",
   "execution_count": 6,
   "metadata": {},
   "outputs": [],
   "source": [
    "X = []\n",
    "Y = []\n",
    "for row in dataset:\n",
    "    x, y = str2floatlist(row)\n",
    "    X.append(x)\n",
    "    Y.append(y)"
   ]
  },
  {
   "cell_type": "code",
   "execution_count": 7,
   "metadata": {},
   "outputs": [
    {
     "name": "stdout",
     "output_type": "stream",
     "text": [
      "มีข้อมูล 2 กลุ่ม คือ {0, 1}\n"
     ]
    }
   ],
   "source": [
    "print(f'มีข้อมูล {len(set(Y))} กลุ่ม คือ {set(Y)}')"
   ]
  },
  {
   "cell_type": "markdown",
   "metadata": {},
   "source": [
    "นับจำนวนตัวอย่างในแต่ละกลุ่ม"
   ]
  },
  {
   "cell_type": "code",
   "execution_count": 8,
   "metadata": {},
   "outputs": [],
   "source": [
    "pos_num = 0\n",
    "neg_num = 0\n",
    "for cl in Y:\n",
    "    pos_num += cl\n",
    "    neg_num += (1-cl)"
   ]
  },
  {
   "cell_type": "code",
   "execution_count": 9,
   "metadata": {},
   "outputs": [
    {
     "name": "stdout",
     "output_type": "stream",
     "text": [
      "มีข้อมูลกลุ่ม 0 จำนวน 762 ตัวอย่าง\n",
      "มีข้อมูลกลุ่ม 1 จำนวน 610 ตัวอย่าง\n"
     ]
    }
   ],
   "source": [
    "print(f'มีข้อมูลกลุ่ม 0 จำนวน {neg_num} ตัวอย่าง')\n",
    "print(f'มีข้อมูลกลุ่ม 1 จำนวน {pos_num} ตัวอย่าง')"
   ]
  },
  {
   "cell_type": "markdown",
   "metadata": {},
   "source": [
    "([กลับขึ้นข้างบน](#top))\n",
    "\n",
    "----"
   ]
  },
  {
   "cell_type": "markdown",
   "metadata": {},
   "source": [
    "<a id='section_2'></a>\n",
    "# 2. การเตรียมข้อมูลเข้า\n"
   ]
  },
  {
   "cell_type": "markdown",
   "metadata": {},
   "source": [
    "แบ่งข้อมูลเป็น 2 กลุ่ม สำหรับ training และ test โดยแบ่งเป็น test data 20% และ training data 80%"
   ]
  },
  {
   "cell_type": "code",
   "execution_count": 10,
   "metadata": {},
   "outputs": [],
   "source": [
    "def train_test_split(X, Y, test_size):\n",
    "    x_train = []\n",
    "    y_train = []\n",
    "    x_test = []\n",
    "    y_test = []\n",
    "    for x, y in zip(X,Y):\n",
    "        i = random.random()\n",
    "        if i > test_size:\n",
    "            x_train.append(x)\n",
    "            y_train.append(y)\n",
    "        else:\n",
    "            x_test.append(x)\n",
    "            y_test.append(y)\n",
    "    return x_train, y_train, x_test, y_test"
   ]
  },
  {
   "cell_type": "code",
   "execution_count": 11,
   "metadata": {},
   "outputs": [],
   "source": [
    "test_size = 0.2\n",
    "x_train, y_train, x_test, y_test = train_test_split(X, Y, test_size)"
   ]
  },
  {
   "cell_type": "code",
   "execution_count": 12,
   "metadata": {},
   "outputs": [],
   "source": [
    "pos_num_train = 0\n",
    "neg_num_train = 0\n",
    "for cl in y_train:\n",
    "    pos_num_train += cl\n",
    "    neg_num_train += (1-cl)\n",
    "\n",
    "pos_num_test = 0\n",
    "neg_num_test = 0\n",
    "for cl in y_test:\n",
    "    pos_num_test += cl\n",
    "    neg_num_test += (1-cl)"
   ]
  },
  {
   "cell_type": "code",
   "execution_count": 13,
   "metadata": {},
   "outputs": [
    {
     "name": "stdout",
     "output_type": "stream",
     "text": [
      "ข้อมูล training มี 1119 ตัวอย่าง แต่ละตัวอย่างมี 4 คอลัมน์\n",
      "ข้อมูล training มี 2 กลุ่ม คือ {0, 1}\n",
      "มีข้อมูลกลุ่ม 0 จำนวน 616 ตัวอย่าง\n",
      "มีข้อมูลกลุ่ม 1 จำนวน 503 ตัวอย่าง\n",
      "ข้อมูล test มี 253 ตัวอย่าง แต่ละตัวอย่างมี 4 คอลัมน์\n",
      "ข้อมูล test มี 2 กลุ่ม คือ {0, 1}\n",
      "มีข้อมูลกลุ่ม 0 จำนวน 146 ตัวอย่าง\n",
      "มีข้อมูลกลุ่ม 1 จำนวน 107 ตัวอย่าง\n"
     ]
    }
   ],
   "source": [
    "print(f'ข้อมูล training มี {len(x_train)} ตัวอย่าง แต่ละตัวอย่างมี {len(x_train[0])} คอลัมน์')\n",
    "print(f'ข้อมูล training มี {len(set(y_train))} กลุ่ม คือ {set(y_train)}')\n",
    "print(f'มีข้อมูลกลุ่ม 0 จำนวน {neg_num_train} ตัวอย่าง')\n",
    "print(f'มีข้อมูลกลุ่ม 1 จำนวน {pos_num_train} ตัวอย่าง')\n",
    "\n",
    "print(f'ข้อมูล test มี {len(x_test)} ตัวอย่าง แต่ละตัวอย่างมี {len(x_test[0])} คอลัมน์')\n",
    "print(f'ข้อมูล test มี {len(set(y_test))} กลุ่ม คือ {set(y_test)}')\n",
    "print(f'มีข้อมูลกลุ่ม 0 จำนวน {neg_num_test} ตัวอย่าง')\n",
    "print(f'มีข้อมูลกลุ่ม 1 จำนวน {pos_num_test} ตัวอย่าง')"
   ]
  },
  {
   "cell_type": "markdown",
   "metadata": {},
   "source": [
    "([กลับขึ้นข้างบน](#top))\n",
    "\n",
    "----"
   ]
  },
  {
   "cell_type": "markdown",
   "metadata": {},
   "source": [
    "<a id='section_3'></a>\n",
    "# 3. การสร้าง Decision Tree\n"
   ]
  },
  {
   "cell_type": "markdown",
   "metadata": {},
   "source": [
    "## 3.1 Gini Index"
   ]
  },
  {
   "cell_type": "code",
   "execution_count": 14,
   "metadata": {},
   "outputs": [],
   "source": [
    "# Calculate the Gini index for a split dataset\n",
    "def gini_index(y_gr1, y_gr2):\n",
    "    # count all samples at split point\n",
    "    n_instances = float(len(y_gr1) + len(y_gr2))\n",
    "    classes = set(y_gr1 + y_gr2)\n",
    "    # sum weighted Gini index for each group\n",
    "    gini = 0.0\n",
    "    for group in [y_gr1, y_gr2]:\n",
    "        size = float(len(group))\n",
    "        # avoid divide by zero\n",
    "        if size == 0:\n",
    "            continue\n",
    "        score = 0.0\n",
    "        # score the group based on the score for each class\n",
    "        for class_val in classes:\n",
    "            p = group.count(class_val) / size\n",
    "            score += p * p\n",
    "        # weight the group score by its relative size\n",
    "        gini += (1.0 - score) * (size / n_instances)\n",
    "    return gini"
   ]
  },
  {
   "cell_type": "code",
   "execution_count": 15,
   "metadata": {},
   "outputs": [
    {
     "name": "stdout",
     "output_type": "stream",
     "text": [
      "0.5\n"
     ]
    }
   ],
   "source": [
    "print(gini_index([1, 0], [1, 0]))"
   ]
  },
  {
   "cell_type": "markdown",
   "metadata": {},
   "source": [
    "ผลลัพธ์ที่ควรจะได้\n",
    "\n",
    "`0.5`"
   ]
  },
  {
   "cell_type": "code",
   "execution_count": 16,
   "metadata": {},
   "outputs": [
    {
     "name": "stdout",
     "output_type": "stream",
     "text": [
      "0.0\n"
     ]
    }
   ],
   "source": [
    "print(gini_index([0, 0], [1, 1]))"
   ]
  },
  {
   "cell_type": "markdown",
   "metadata": {},
   "source": [
    "ผลลัพธ์ที่ควรจะได้\n",
    "\n",
    "`0.0`"
   ]
  },
  {
   "cell_type": "markdown",
   "metadata": {},
   "source": [
    "## 3.2 Evaluate All Split"
   ]
  },
  {
   "cell_type": "code",
   "execution_count": 17,
   "metadata": {},
   "outputs": [],
   "source": [
    "def test_split(index, thr, x_train, y_train):\n",
    "    left_x, left_y, right_x, right_y = list(), list(), list(), list()\n",
    "    for x, y in zip(x_train, y_train):\n",
    "        if x[index] < thr:\n",
    "            left_x.append(x)\n",
    "            left_y.append(y)\n",
    "        else:\n",
    "            right_x.append(x)\n",
    "            right_y.append(y)\n",
    "    return left_x, left_y, right_x, right_y"
   ]
  },
  {
   "cell_type": "code",
   "execution_count": 18,
   "metadata": {},
   "outputs": [],
   "source": [
    "def get_split(x_train, y_train):\n",
    "    b_index, b_value, b_score, b_groups = None, None, math.inf, None\n",
    "    for index in range(len(x_train[0])):\n",
    "        for x, y in zip(x_train, y_train):\n",
    "            groups = test_split(index, x[index], x_train, y_train)\n",
    "            left_x, left_y, right_x, right_y = groups\n",
    "            gini = gini_index(left_y, right_y)\n",
    "            if gini < b_score:\n",
    "                b_index, b_value, b_score, b_groups = index, x[index], gini, groups\n",
    "    return {'index':b_index, 'value':b_value, 'groups':b_groups}"
   ]
  },
  {
   "cell_type": "code",
   "execution_count": 19,
   "metadata": {},
   "outputs": [
    {
     "name": "stdout",
     "output_type": "stream",
     "text": [
      "Split: [X1 < 6.642]\n"
     ]
    }
   ],
   "source": [
    "x_sample = [[2.771244718,1.784783929],\n",
    "    [1.728571309,1.169761413],\n",
    "    [3.678319846,2.81281357],\n",
    "    [3.961043357,2.61995032],\n",
    "    [2.999208922,2.209014212],\n",
    "    [7.497545867,3.162953546],\n",
    "    [9.00220326,3.339047188],\n",
    "    [7.444542326,0.476683375],\n",
    "    [10.12493903,3.234550982],\n",
    "    [6.642287351,3.319983761]]\n",
    "y_sample = [0, 0, 0, 0, 0, 1, 1, 1, 1, 1]\n",
    "split = get_split(x_sample, y_sample)\n",
    "print('Split: [X%d < %.3f]' % ((split['index']+1), split['value']))"
   ]
  },
  {
   "cell_type": "markdown",
   "metadata": {},
   "source": [
    "ผลลัพธ์ที่ควรจะได้\n",
    "\n",
    "`Split: [X1 < 6.642]`"
   ]
  },
  {
   "cell_type": "markdown",
   "metadata": {},
   "source": [
    "## 3.3 Build Tree"
   ]
  },
  {
   "cell_type": "markdown",
   "metadata": {},
   "source": [
    "### Terminal Node"
   ]
  },
  {
   "cell_type": "code",
   "execution_count": 20,
   "metadata": {},
   "outputs": [],
   "source": [
    "# Create a terminal node value\n",
    "def to_terminal(outcomes):\n",
    "    return max(set(outcomes), key=outcomes.count)"
   ]
  },
  {
   "cell_type": "code",
   "execution_count": 21,
   "metadata": {},
   "outputs": [
    {
     "data": {
      "text/plain": [
       "1"
      ]
     },
     "execution_count": 21,
     "metadata": {},
     "output_type": "execute_result"
    }
   ],
   "source": [
    "to_terminal([0,1,1,1,1])"
   ]
  },
  {
   "cell_type": "markdown",
   "metadata": {},
   "source": [
    "ผลลัพธ์ที่ควรจะได้\n",
    "\n",
    "`1`"
   ]
  },
  {
   "cell_type": "code",
   "execution_count": 22,
   "metadata": {},
   "outputs": [
    {
     "data": {
      "text/plain": [
       "0"
      ]
     },
     "execution_count": 22,
     "metadata": {},
     "output_type": "execute_result"
    }
   ],
   "source": [
    "to_terminal([0,0,0,1,1])"
   ]
  },
  {
   "cell_type": "markdown",
   "metadata": {},
   "source": [
    "ผลลัพธ์ที่ควรจะได้\n",
    "\n",
    "`0`"
   ]
  },
  {
   "cell_type": "markdown",
   "metadata": {},
   "source": [
    "### Recursive Splitting"
   ]
  },
  {
   "cell_type": "code",
   "execution_count": 23,
   "metadata": {},
   "outputs": [],
   "source": [
    "# Create child splits for a node or make terminal\n",
    "def split(node, max_depth, min_size, depth):\n",
    "    left_x, left_y, right_x, right_y = node['groups']\n",
    "    del(node['groups'])\n",
    "    # check for a no split\n",
    "    if not left_y or not right_y:\n",
    "        node['left'] = node['right'] = to_terminal(left_y + right_y)\n",
    "        return\n",
    "    # check for max depth\n",
    "    if depth >= max_depth:\n",
    "        node['left'], node['right'] = to_terminal(left_y), to_terminal(right_y)\n",
    "        return\n",
    "    # process left child\n",
    "    if len(left_y) <= min_size:\n",
    "        node['left'] = to_terminal(left_y)\n",
    "    else:\n",
    "        node['left'] = get_split(left_x, left_y)\n",
    "        split(node['left'], max_depth, min_size, depth+1)\n",
    "    # process right child\n",
    "    if len(right_y) <= min_size:\n",
    "        node['right'] = to_terminal(right_y)\n",
    "    else:\n",
    "        node['right'] = get_split(right_x, right_y)\n",
    "        split(node['right'], max_depth, min_size, depth+1)"
   ]
  },
  {
   "cell_type": "markdown",
   "metadata": {},
   "source": [
    "### Put Everything Together"
   ]
  },
  {
   "cell_type": "code",
   "execution_count": 24,
   "metadata": {},
   "outputs": [],
   "source": [
    "# deicision tree parameters\n",
    "max_depth = 5\n",
    "min_size = 10"
   ]
  },
  {
   "cell_type": "code",
   "execution_count": 25,
   "metadata": {},
   "outputs": [],
   "source": [
    "# Build a decision tree\n",
    "def build_tree(x_train, y_train, max_depth, min_size):\n",
    "    root = get_split(x_train, y_train)\n",
    "    split(root, max_depth, min_size, 1)\n",
    "    return root"
   ]
  },
  {
   "cell_type": "code",
   "execution_count": 26,
   "metadata": {},
   "outputs": [],
   "source": [
    "# Print a decision tree\n",
    "def print_tree(node, depth=0):\n",
    "    if isinstance(node, dict):\n",
    "        print('%s[X%d < %.3f]' % ((depth*' ', (node['index']+1), node['value'])))\n",
    "        print_tree(node['left'], depth+1)\n",
    "        print_tree(node['right'], depth+1)\n",
    "    else:\n",
    "        print('%s[%s]' % ((depth*' ', node)))"
   ]
  },
  {
   "cell_type": "code",
   "execution_count": 27,
   "metadata": {},
   "outputs": [
    {
     "name": "stdout",
     "output_type": "stream",
     "text": [
      "[X1 < 6.642]\n",
      " [0]\n",
      " [1]\n"
     ]
    }
   ],
   "source": [
    "x_sample = [[2.771244718,1.784783929],\n",
    "    [1.728571309,1.169761413],\n",
    "    [3.678319846,2.81281357],\n",
    "    [3.961043357,2.61995032],\n",
    "    [2.999208922,2.209014212],\n",
    "    [7.497545867,3.162953546],\n",
    "    [9.00220326,3.339047188],\n",
    "    [7.444542326,0.476683375],\n",
    "    [10.12493903,3.234550982],\n",
    "    [6.642287351,3.319983761]]\n",
    "y_sample = [0, 0, 0, 0, 0, 1, 1, 1, 1, 1]\n",
    "tree = build_tree(x_sample, y_sample, 1, 1)\n",
    "print_tree(tree)"
   ]
  },
  {
   "cell_type": "markdown",
   "metadata": {},
   "source": [
    "ผลลัพธ์ที่ควรจะได้\n",
    "\n",
    "```\n",
    "[X1 < 6.642]\n",
    " [0]\n",
    " [1]\n",
    "```"
   ]
  },
  {
   "cell_type": "code",
   "execution_count": 28,
   "metadata": {},
   "outputs": [
    {
     "name": "stdout",
     "output_type": "stream",
     "text": [
      "[X1 < 6.642]\n",
      " [X1 < 2.771]\n",
      "  [0]\n",
      "  [0]\n",
      " [X1 < 7.498]\n",
      "  [1]\n",
      "  [1]\n"
     ]
    }
   ],
   "source": [
    "tree = build_tree(x_sample, y_sample, 2, 1)\n",
    "print_tree(tree)"
   ]
  },
  {
   "cell_type": "markdown",
   "metadata": {},
   "source": [
    "ผลลัพธ์ที่ควรจะได้\n",
    "\n",
    "```\n",
    "[X1 < 6.642]\n",
    " [X1 < 2.771]\n",
    "  [0]\n",
    "  [0]\n",
    " [X1 < 7.498]\n",
    "  [1]\n",
    "  [1]\n",
    "```"
   ]
  },
  {
   "cell_type": "code",
   "execution_count": 29,
   "metadata": {},
   "outputs": [
    {
     "name": "stdout",
     "output_type": "stream",
     "text": [
      "[X1 < 6.642]\n",
      " [X1 < 2.771]\n",
      "  [0]\n",
      "  [X1 < 2.771]\n",
      "   [0]\n",
      "   [0]\n",
      " [X1 < 7.498]\n",
      "  [X1 < 7.445]\n",
      "   [1]\n",
      "   [1]\n",
      "  [X1 < 7.498]\n",
      "   [1]\n",
      "   [1]\n"
     ]
    }
   ],
   "source": [
    "tree = build_tree(x_sample, y_sample, 3, 1)\n",
    "print_tree(tree)"
   ]
  },
  {
   "cell_type": "markdown",
   "metadata": {},
   "source": [
    "ผลลัพธ์ที่ควรจะได้\n",
    "\n",
    "```\n",
    "[X1 < 6.642]\n",
    " [X1 < 2.771]\n",
    "  [0]\n",
    "  [X1 < 2.771]\n",
    "   [0]\n",
    "   [0]\n",
    " [X1 < 7.498]\n",
    "  [X1 < 7.445]\n",
    "   [1]\n",
    "   [1]\n",
    "  [X1 < 7.498]\n",
    "   [1]\n",
    "   [1]\n",
    "```"
   ]
  },
  {
   "cell_type": "markdown",
   "metadata": {},
   "source": [
    "### 3.4 Prediction"
   ]
  },
  {
   "cell_type": "code",
   "execution_count": 30,
   "metadata": {},
   "outputs": [],
   "source": [
    "# Make a prediction with a decision tree\n",
    "def predict(node, row):\n",
    "    if row[node['index']] < node['value']:\n",
    "        if isinstance(node['left'], dict):\n",
    "            return predict(node['left'], row)\n",
    "        else:\n",
    "            return node['left']\n",
    "    else:\n",
    "        if isinstance(node['right'], dict):\n",
    "            return predict(node['right'], row)\n",
    "        else:\n",
    "            return node['right']"
   ]
  },
  {
   "cell_type": "code",
   "execution_count": 31,
   "metadata": {},
   "outputs": [
    {
     "name": "stdout",
     "output_type": "stream",
     "text": [
      "Expected=0, Got=0\n",
      "Expected=0, Got=0\n",
      "Expected=0, Got=0\n",
      "Expected=0, Got=0\n",
      "Expected=0, Got=0\n",
      "Expected=1, Got=1\n",
      "Expected=1, Got=1\n",
      "Expected=1, Got=1\n",
      "Expected=1, Got=1\n",
      "Expected=1, Got=1\n"
     ]
    }
   ],
   "source": [
    "tree = build_tree(x_sample, y_sample, 1, 1)\n",
    "\n",
    "for x, y in zip(x_sample, y_sample):\n",
    "    prediction = predict(tree, x)\n",
    "    print('Expected=%d, Got=%d' % (y, prediction))"
   ]
  },
  {
   "cell_type": "markdown",
   "metadata": {},
   "source": [
    "ผลลัพธ์ที่ควรจะได้\n",
    "\n",
    "```\n",
    "Expected=0, Got=0\n",
    "Expected=0, Got=0\n",
    "Expected=0, Got=0\n",
    "Expected=0, Got=0\n",
    "Expected=0, Got=0\n",
    "Expected=1, Got=1\n",
    "Expected=1, Got=1\n",
    "Expected=1, Got=1\n",
    "Expected=1, Got=1\n",
    "Expected=1, Got=1\n",
    "```"
   ]
  },
  {
   "cell_type": "markdown",
   "metadata": {},
   "source": [
    "([กลับขึ้นข้างบน](#top))\n",
    "\n",
    "----"
   ]
  },
  {
   "cell_type": "markdown",
   "metadata": {},
   "source": [
    "<a id='section_4'></a>\n",
    "# 4. การประเมินความแม่นยำของโมเดล"
   ]
  },
  {
   "cell_type": "code",
   "execution_count": 32,
   "metadata": {},
   "outputs": [],
   "source": [
    "max_depth = 5\n",
    "min_size = 10\n",
    "tree = build_tree(x_train, y_train, max_depth, min_size)"
   ]
  },
  {
   "cell_type": "code",
   "execution_count": 33,
   "metadata": {},
   "outputs": [],
   "source": [
    "y_pred = []\n",
    "for x in x_test:\n",
    "    y_pred.append(predict(tree, x))"
   ]
  },
  {
   "cell_type": "code",
   "execution_count": 34,
   "metadata": {},
   "outputs": [],
   "source": [
    "assert(len(y_pred) == len(y_test))"
   ]
  },
  {
   "cell_type": "markdown",
   "metadata": {},
   "source": [
    "## 4.1 Accuracy"
   ]
  },
  {
   "cell_type": "code",
   "execution_count": 35,
   "metadata": {},
   "outputs": [],
   "source": [
    "def accuracy_metric(actual, predicted):\n",
    "    correct = 0\n",
    "    for i in range(len(actual)):\n",
    "        if actual[i] == predicted[i]:\n",
    "            correct += 1\n",
    "    return correct / float(len(actual)) * 100.0"
   ]
  },
  {
   "cell_type": "code",
   "execution_count": 36,
   "metadata": {},
   "outputs": [
    {
     "data": {
      "text/plain": [
       "95.25691699604744"
      ]
     },
     "execution_count": 36,
     "metadata": {},
     "output_type": "execute_result"
    }
   ],
   "source": [
    "accuracy_metric(y_test, y_pred)"
   ]
  },
  {
   "cell_type": "markdown",
   "metadata": {},
   "source": [
    "## 4.2 Confusion Matrix"
   ]
  },
  {
   "cell_type": "code",
   "execution_count": 37,
   "metadata": {},
   "outputs": [],
   "source": [
    "def confusion_matrix(actual, predicted):\n",
    "    y_g = set(actual)\n",
    "    y_p = set(predicted)\n",
    "    mat = [[0]*len(y_p) for i in range(len(y_g))]\n",
    "    for i, yg in enumerate(y_g):\n",
    "        for j, yp in enumerate(y_p):\n",
    "            for k in range(len(actual)):\n",
    "                if actual[k] == yg and predicted[k] == yp:\n",
    "                    mat[i][j] += 1\n",
    "    return mat"
   ]
  },
  {
   "cell_type": "code",
   "execution_count": 38,
   "metadata": {},
   "outputs": [],
   "source": [
    "def print_confusion_matrix(matrix):\n",
    "    print(f'            Prediction')\n",
    "    print(f'Reference {0:5d} {1:5d}')\n",
    "    for i, row in enumerate(matrix):\n",
    "        print(f'      {i:3d}', end=' ')\n",
    "        for num in row:\n",
    "            print(f'{num:5.0f}', end=' ')\n",
    "        print('')"
   ]
  },
  {
   "cell_type": "code",
   "execution_count": 39,
   "metadata": {},
   "outputs": [
    {
     "name": "stdout",
     "output_type": "stream",
     "text": [
      "            Prediction\n",
      "Reference     0     1\n",
      "        0   139     7 \n",
      "        1     5   102 \n"
     ]
    }
   ],
   "source": [
    "mat = confusion_matrix(y_test, y_pred)\n",
    "print_confusion_matrix(mat)"
   ]
  },
  {
   "cell_type": "markdown",
   "metadata": {},
   "source": [
    "## 4.3 Precision and Recall"
   ]
  },
  {
   "cell_type": "code",
   "execution_count": 40,
   "metadata": {},
   "outputs": [],
   "source": [
    "def precision_recall(actual, predicted):\n",
    "    tp = 0\n",
    "    for y_g, y_p in zip(actual, predicted):\n",
    "        tp += (y_g == 1) & (y_p == 1)\n",
    "    fp = 0\n",
    "    for y_g, y_p in zip(actual, predicted):\n",
    "        fp += (y_g == 0) & (y_p == 1)\n",
    "    fn = 0\n",
    "    for y_g, y_p in zip(actual, predicted):\n",
    "        fn += (y_g == 1) & (y_p == 0)\n",
    "    tn = 0\n",
    "    for y_g, y_p in zip(actual, predicted):\n",
    "        tn += (y_g == 0) & (y_p == 0)\n",
    "    \n",
    "    precision = tp / float(tp + fp)\n",
    "    recall = tp / float(tp + fn)\n",
    "    return precision, recall"
   ]
  },
  {
   "cell_type": "code",
   "execution_count": 41,
   "metadata": {},
   "outputs": [
    {
     "name": "stdout",
     "output_type": "stream",
     "text": [
      "precision = 0.936\n",
      "recall = 0.953\n"
     ]
    }
   ],
   "source": [
    "p, r = precision_recall(y_test, y_pred)\n",
    "print(f'precision = {p:.3f}')\n",
    "print(f'recall = {r:.3f}')"
   ]
  },
  {
   "cell_type": "markdown",
   "metadata": {},
   "source": [
    "## 4.4 F1-score"
   ]
  },
  {
   "cell_type": "code",
   "execution_count": 42,
   "metadata": {},
   "outputs": [],
   "source": [
    "def f1score(actual, predicted):\n",
    "    p, r = precision_recall(actual, predicted)\n",
    "    return (2*p*r) / (p+r)"
   ]
  },
  {
   "cell_type": "code",
   "execution_count": 43,
   "metadata": {},
   "outputs": [
    {
     "name": "stdout",
     "output_type": "stream",
     "text": [
      "F1-scre = 0.944\n"
     ]
    }
   ],
   "source": [
    "f1 = f1score(y_test, y_pred)\n",
    "print(f'F1-scre = {f1:.3f}')"
   ]
  },
  {
   "cell_type": "markdown",
   "metadata": {},
   "source": [
    "([กลับขึ้นข้างบน](#top))\n",
    "\n",
    "----"
   ]
  }
 ],
 "metadata": {
  "kernelspec": {
   "display_name": "Python 3",
   "language": "python",
   "name": "python3"
  },
  "language_info": {
   "codemirror_mode": {
    "name": "ipython",
    "version": 3
   },
   "file_extension": ".py",
   "mimetype": "text/x-python",
   "name": "python",
   "nbconvert_exporter": "python",
   "pygments_lexer": "ipython3",
   "version": "3.7.3"
  }
 },
 "nbformat": 4,
 "nbformat_minor": 4
}
